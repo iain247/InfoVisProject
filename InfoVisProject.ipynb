{
 "cells": [
  {
   "cell_type": "code",
   "execution_count": 68,
   "id": "373975b1",
   "metadata": {},
   "outputs": [
    {
     "data": {
      "text/html": [
       "\n",
       "<div id=\"altair-viz-4423743a76ce495d8196ea422a49bbe9\"></div>\n",
       "<script type=\"text/javascript\">\n",
       "  (function(spec, embedOpt){\n",
       "    let outputDiv = document.currentScript.previousElementSibling;\n",
       "    if (outputDiv.id !== \"altair-viz-4423743a76ce495d8196ea422a49bbe9\") {\n",
       "      outputDiv = document.getElementById(\"altair-viz-4423743a76ce495d8196ea422a49bbe9\");\n",
       "    }\n",
       "    const paths = {\n",
       "      \"vega\": \"https://cdn.jsdelivr.net/npm//vega@5?noext\",\n",
       "      \"vega-lib\": \"https://cdn.jsdelivr.net/npm//vega-lib?noext\",\n",
       "      \"vega-lite\": \"https://cdn.jsdelivr.net/npm//vega-lite@4.8.1?noext\",\n",
       "      \"vega-embed\": \"https://cdn.jsdelivr.net/npm//vega-embed@6?noext\",\n",
       "    };\n",
       "\n",
       "    function loadScript(lib) {\n",
       "      return new Promise(function(resolve, reject) {\n",
       "        var s = document.createElement('script');\n",
       "        s.src = paths[lib];\n",
       "        s.async = true;\n",
       "        s.onload = () => resolve(paths[lib]);\n",
       "        s.onerror = () => reject(`Error loading script: ${paths[lib]}`);\n",
       "        document.getElementsByTagName(\"head\")[0].appendChild(s);\n",
       "      });\n",
       "    }\n",
       "\n",
       "    function showError(err) {\n",
       "      outputDiv.innerHTML = `<div class=\"error\" style=\"color:red;\">${err}</div>`;\n",
       "      throw err;\n",
       "    }\n",
       "\n",
       "    function displayChart(vegaEmbed) {\n",
       "      vegaEmbed(outputDiv, spec, embedOpt)\n",
       "        .catch(err => showError(`Javascript Error: ${err.message}<br>This usually means there's a typo in your chart specification. See the javascript console for the full traceback.`));\n",
       "    }\n",
       "\n",
       "    if(typeof define === \"function\" && define.amd) {\n",
       "      requirejs.config({paths});\n",
       "      require([\"vega-embed\"], displayChart, err => showError(`Error loading script: ${err.message}`));\n",
       "    } else if (typeof vegaEmbed === \"function\") {\n",
       "      displayChart(vegaEmbed);\n",
       "    } else {\n",
       "      loadScript(\"vega\")\n",
       "        .then(() => loadScript(\"vega-lite\"))\n",
       "        .then(() => loadScript(\"vega-embed\"))\n",
       "        .catch(showError)\n",
       "        .then(() => displayChart(vegaEmbed));\n",
       "    }\n",
       "  })({\"config\": {\"view\": {\"continuousWidth\": 400, \"continuousHeight\": 300}}, \"data\": {\"name\": \"data-62cc35df9dc3a4a1d0334878586540a4\"}, \"mark\": \"line\", \"encoding\": {\"color\": {\"type\": \"nominal\", \"field\": \"Tournament\"}, \"detail\": {\"type\": \"nominal\", \"field\": \"index\"}, \"opacity\": {\"value\": 0.5}, \"tooltip\": {\"type\": \"nominal\", \"field\": \"Team\"}, \"x\": {\"type\": \"nominal\", \"field\": \"key\"}, \"y\": {\"type\": \"quantitative\", \"field\": \"value\"}}, \"selection\": {\"selector008\": {\"type\": \"interval\", \"bind\": \"scales\", \"encodings\": [\"x\", \"y\"]}}, \"transform\": [{\"window\": [{\"op\": \"count\", \"as\": \"index\"}]}, {\"fold\": [\"Goals\", \"Shots pg\", \"Possession%\", \"Pass%\", \"AerialsWon\"]}], \"width\": 500, \"$schema\": \"https://vega.github.io/schema/vega-lite/v4.8.1.json\", \"datasets\": {\"data-62cc35df9dc3a4a1d0334878586540a4\": [{\"Team\": \"Manchester City\", \"Tournament\": \"Premier League\", \"Goals\": 83, \"Shots pg\": 15.8, \"yellow_cards\": 46, \"red_cards\": 2, \"Possession%\": 60.8, \"Pass%\": 89.4, \"AerialsWon\": 12.8, \"Rating\": 7.01}, {\"Team\": \"Bayern Munich\", \"Tournament\": \"Bundesliga\", \"Goals\": 99, \"Shots pg\": 17.1, \"yellow_cards\": 44, \"red_cards\": 3, \"Possession%\": 58.1, \"Pass%\": 85.5, \"AerialsWon\": 12.9, \"Rating\": 6.95}, {\"Team\": \"Paris Saint-Germain\", \"Tournament\": \"Ligue 1\", \"Goals\": 86, \"Shots pg\": 15.0, \"yellow_cards\": 73, \"red_cards\": 7, \"Possession%\": 60.1, \"Pass%\": 89.5, \"AerialsWon\": 9.5, \"Rating\": 6.88}, {\"Team\": \"Barcelona\", \"Tournament\": \"LaLiga\", \"Goals\": 85, \"Shots pg\": 15.3, \"yellow_cards\": 68, \"red_cards\": 2, \"Possession%\": 62.4, \"Pass%\": 89.7, \"AerialsWon\": 10.6, \"Rating\": 6.87}, {\"Team\": \"Real Madrid\", \"Tournament\": \"LaLiga\", \"Goals\": 67, \"Shots pg\": 14.4, \"yellow_cards\": 57, \"red_cards\": 2, \"Possession%\": 57.7, \"Pass%\": 87.7, \"AerialsWon\": 11.8, \"Rating\": 6.86}, {\"Team\": \"Manchester United\", \"Tournament\": \"Premier League\", \"Goals\": 73, \"Shots pg\": 13.8, \"yellow_cards\": 64, \"red_cards\": 1, \"Possession%\": 54.5, \"Pass%\": 84.8, \"AerialsWon\": 14.5, \"Rating\": 6.85}, {\"Team\": \"Juventus\", \"Tournament\": \"Serie A\", \"Goals\": 77, \"Shots pg\": 15.7, \"yellow_cards\": 76, \"red_cards\": 6, \"Possession%\": 55.4, \"Pass%\": 88.3, \"AerialsWon\": 11.4, \"Rating\": 6.85}, {\"Team\": \"Aston Villa\", \"Tournament\": \"Premier League\", \"Goals\": 55, \"Shots pg\": 13.7, \"yellow_cards\": 63, \"red_cards\": 4, \"Possession%\": 49.1, \"Pass%\": 78.6, \"AerialsWon\": 19.4, \"Rating\": 6.84}, {\"Team\": \"Borussia Dortmund\", \"Tournament\": \"Bundesliga\", \"Goals\": 75, \"Shots pg\": 14.6, \"yellow_cards\": 43, \"red_cards\": 1, \"Possession%\": 57.5, \"Pass%\": 85.5, \"AerialsWon\": 12.8, \"Rating\": 6.84}, {\"Team\": \"Atletico Madrid\", \"Tournament\": \"LaLiga\", \"Goals\": 67, \"Shots pg\": 12.1, \"yellow_cards\": 100, \"red_cards\": 0, \"Possession%\": 51.8, \"Pass%\": 83.1, \"AerialsWon\": 14.4, \"Rating\": 6.84}, {\"Team\": \"Atalanta\", \"Tournament\": \"Serie A\", \"Goals\": 90, \"Shots pg\": 16.3, \"yellow_cards\": 66, \"red_cards\": 3, \"Possession%\": 53.5, \"Pass%\": 83.5, \"AerialsWon\": 16.8, \"Rating\": 6.84}, {\"Team\": \"Chelsea\", \"Tournament\": \"Premier League\", \"Goals\": 58, \"Shots pg\": 14.6, \"yellow_cards\": 49, \"red_cards\": 3, \"Possession%\": 58.6, \"Pass%\": 87.0, \"AerialsWon\": 15.2, \"Rating\": 6.83}, {\"Team\": \"Liverpool\", \"Tournament\": \"Premier League\", \"Goals\": 68, \"Shots pg\": 16.0, \"yellow_cards\": 40, \"red_cards\": 0, \"Possession%\": 59.0, \"Pass%\": 85.7, \"AerialsWon\": 14.3, \"Rating\": 6.82}, {\"Team\": \"AC Milan\", \"Tournament\": \"Serie A\", \"Goals\": 74, \"Shots pg\": 14.7, \"yellow_cards\": 80, \"red_cards\": 4, \"Possession%\": 51.4, \"Pass%\": 84.0, \"AerialsWon\": 15.2, \"Rating\": 6.82}, {\"Team\": \"Lille\", \"Tournament\": \"Ligue 1\", \"Goals\": 64, \"Shots pg\": 12.8, \"yellow_cards\": 67, \"red_cards\": 2, \"Possession%\": 52.6, \"Pass%\": 83.5, \"AerialsWon\": 15.8, \"Rating\": 6.82}, {\"Team\": \"Tottenham\", \"Tournament\": \"Premier League\", \"Goals\": 68, \"Shots pg\": 11.7, \"yellow_cards\": 53, \"red_cards\": 2, \"Possession%\": 51.3, \"Pass%\": 81.8, \"AerialsWon\": 16.4, \"Rating\": 6.81}, {\"Team\": \"Napoli\", \"Tournament\": \"Serie A\", \"Goals\": 86, \"Shots pg\": 17.0, \"yellow_cards\": 71, \"red_cards\": 3, \"Possession%\": 54.1, \"Pass%\": 87.0, \"AerialsWon\": 11.1, \"Rating\": 6.81}, {\"Team\": \"Leicester\", \"Tournament\": \"Premier League\", \"Goals\": 68, \"Shots pg\": 12.8, \"yellow_cards\": 61, \"red_cards\": 0, \"Possession%\": 53.2, \"Pass%\": 82.1, \"AerialsWon\": 16.2, \"Rating\": 6.8}, {\"Team\": \"Wolfsburg\", \"Tournament\": \"Bundesliga\", \"Goals\": 61, \"Shots pg\": 14.1, \"yellow_cards\": 56, \"red_cards\": 3, \"Possession%\": 51.0, \"Pass%\": 78.0, \"AerialsWon\": 16.9, \"Rating\": 6.8}, {\"Team\": \"Inter\", \"Tournament\": \"Serie A\", \"Goals\": 89, \"Shots pg\": 14.5, \"yellow_cards\": 59, \"red_cards\": 2, \"Possession%\": 52.0, \"Pass%\": 87.0, \"AerialsWon\": 11.8, \"Rating\": 6.8}, {\"Team\": \"Lyon\", \"Tournament\": \"Ligue 1\", \"Goals\": 81, \"Shots pg\": 16.1, \"yellow_cards\": 60, \"red_cards\": 10, \"Possession%\": 53.6, \"Pass%\": 84.7, \"AerialsWon\": 14.3, \"Rating\": 6.8}, {\"Team\": \"RB Leipzig\", \"Tournament\": \"Bundesliga\", \"Goals\": 60, \"Shots pg\": 16.0, \"yellow_cards\": 57, \"red_cards\": 0, \"Possession%\": 57.3, \"Pass%\": 83.2, \"AerialsWon\": 18.6, \"Rating\": 6.78}, {\"Team\": \"Leeds\", \"Tournament\": \"Premier League\", \"Goals\": 62, \"Shots pg\": 13.7, \"yellow_cards\": 61, \"red_cards\": 1, \"Possession%\": 55.1, \"Pass%\": 80.8, \"AerialsWon\": 14.5, \"Rating\": 6.77}, {\"Team\": \"West Ham\", \"Tournament\": \"Premier League\", \"Goals\": 62, \"Shots pg\": 12.3, \"yellow_cards\": 48, \"red_cards\": 3, \"Possession%\": 44.5, \"Pass%\": 77.8, \"AerialsWon\": 19.9, \"Rating\": 6.77}, {\"Team\": \"Everton\", \"Tournament\": \"Premier League\", \"Goals\": 47, \"Shots pg\": 10.5, \"yellow_cards\": 59, \"red_cards\": 2, \"Possession%\": 47.3, \"Pass%\": 81.4, \"AerialsWon\": 17.7, \"Rating\": 6.73}, {\"Team\": \"Bayer Leverkusen\", \"Tournament\": \"Bundesliga\", \"Goals\": 53, \"Shots pg\": 13.0, \"yellow_cards\": 58, \"red_cards\": 0, \"Possession%\": 57.3, \"Pass%\": 84.4, \"AerialsWon\": 13.1, \"Rating\": 6.73}, {\"Team\": \"Eintracht Frankfurt\", \"Tournament\": \"Bundesliga\", \"Goals\": 69, \"Shots pg\": 13.2, \"yellow_cards\": 80, \"red_cards\": 1, \"Possession%\": 52.4, \"Pass%\": 79.6, \"AerialsWon\": 17.9, \"Rating\": 6.73}, {\"Team\": \"Monaco\", \"Tournament\": \"Ligue 1\", \"Goals\": 76, \"Shots pg\": 12.8, \"yellow_cards\": 74, \"red_cards\": 7, \"Possession%\": 54.2, \"Pass%\": 82.7, \"AerialsWon\": 16.5, \"Rating\": 6.73}, {\"Team\": \"Roma\", \"Tournament\": \"Serie A\", \"Goals\": 68, \"Shots pg\": 14.3, \"yellow_cards\": 84, \"red_cards\": 3, \"Possession%\": 51.5, \"Pass%\": 84.5, \"AerialsWon\": 12.1, \"Rating\": 6.71}, {\"Team\": \"Sevilla\", \"Tournament\": \"LaLiga\", \"Goals\": 53, \"Shots pg\": 12.1, \"yellow_cards\": 75, \"red_cards\": 2, \"Possession%\": 58.7, \"Pass%\": 86.2, \"AerialsWon\": 16.6, \"Rating\": 6.7}, {\"Team\": \"Borussia M.Gladbach\", \"Tournament\": \"Bundesliga\", \"Goals\": 64, \"Shots pg\": 13.4, \"yellow_cards\": 61, \"red_cards\": 2, \"Possession%\": 51.5, \"Pass%\": 82.0, \"AerialsWon\": 15.3, \"Rating\": 6.7}, {\"Team\": \"Arsenal\", \"Tournament\": \"Premier League\", \"Goals\": 55, \"Shots pg\": 12.1, \"yellow_cards\": 47, \"red_cards\": 5, \"Possession%\": 52.7, \"Pass%\": 85.0, \"AerialsWon\": 13.5, \"Rating\": 6.69}, {\"Team\": \"Rennes\", \"Tournament\": \"Ligue 1\", \"Goals\": 52, \"Shots pg\": 13.5, \"yellow_cards\": 80, \"red_cards\": 5, \"Possession%\": 56.8, \"Pass%\": 85.6, \"AerialsWon\": 16.9, \"Rating\": 6.69}, {\"Team\": \"VfB Stuttgart\", \"Tournament\": \"Bundesliga\", \"Goals\": 56, \"Shots pg\": 13.4, \"yellow_cards\": 63, \"red_cards\": 2, \"Possession%\": 51.5, \"Pass%\": 81.1, \"AerialsWon\": 16.3, \"Rating\": 6.68}, {\"Team\": \"Wolverhampton Wanderers\", \"Tournament\": \"Premier League\", \"Goals\": 36, \"Shots pg\": 12.2, \"yellow_cards\": 53, \"red_cards\": 1, \"Possession%\": 49.7, \"Pass%\": 83.2, \"AerialsWon\": 15.3, \"Rating\": 6.67}, {\"Team\": \"Sassuolo\", \"Tournament\": \"Serie A\", \"Goals\": 64, \"Shots pg\": 13.9, \"yellow_cards\": 74, \"red_cards\": 4, \"Possession%\": 58.2, \"Pass%\": 87.8, \"AerialsWon\": 10.9, \"Rating\": 6.67}, {\"Team\": \"Metz\", \"Tournament\": \"Ligue 1\", \"Goals\": 44, \"Shots pg\": 11.5, \"yellow_cards\": 82, \"red_cards\": 4, \"Possession%\": 46.9, \"Pass%\": 79.8, \"AerialsWon\": 16.1, \"Rating\": 6.66}, {\"Team\": \"Villarreal\", \"Tournament\": \"LaLiga\", \"Goals\": 60, \"Shots pg\": 10.7, \"yellow_cards\": 65, \"red_cards\": 5, \"Possession%\": 54.3, \"Pass%\": 84.4, \"AerialsWon\": 13.0, \"Rating\": 6.66}, {\"Team\": \"Real Sociedad\", \"Tournament\": \"LaLiga\", \"Goals\": 59, \"Shots pg\": 11.3, \"yellow_cards\": 81, \"red_cards\": 1, \"Possession%\": 53.7, \"Pass%\": 80.8, \"AerialsWon\": 17.9, \"Rating\": 6.65}, {\"Team\": \"Brighton\", \"Tournament\": \"Premier League\", \"Goals\": 40, \"Shots pg\": 12.8, \"yellow_cards\": 45, \"red_cards\": 6, \"Possession%\": 50.7, \"Pass%\": 81.3, \"AerialsWon\": 14.2, \"Rating\": 6.65}, {\"Team\": \"Real Betis\", \"Tournament\": \"LaLiga\", \"Goals\": 50, \"Shots pg\": 11.7, \"yellow_cards\": 87, \"red_cards\": 8, \"Possession%\": 52.9, \"Pass%\": 82.0, \"AerialsWon\": 16.4, \"Rating\": 6.64}, {\"Team\": \"Burnley\", \"Tournament\": \"Premier League\", \"Goals\": 33, \"Shots pg\": 10.1, \"yellow_cards\": 48, \"red_cards\": 0, \"Possession%\": 43.5, \"Pass%\": 71.6, \"AerialsWon\": 23.4, \"Rating\": 6.64}, {\"Team\": \"Lens\", \"Tournament\": \"Ligue 1\", \"Goals\": 55, \"Shots pg\": 11.7, \"yellow_cards\": 84, \"red_cards\": 7, \"Possession%\": 51.1, \"Pass%\": 81.8, \"AerialsWon\": 17.4, \"Rating\": 6.64}, {\"Team\": \"Brest\", \"Tournament\": \"Ligue 1\", \"Goals\": 50, \"Shots pg\": 11.8, \"yellow_cards\": 60, \"red_cards\": 4, \"Possession%\": 49.4, \"Pass%\": 81.3, \"AerialsWon\": 18.6, \"Rating\": 6.64}, {\"Team\": \"Fulham\", \"Tournament\": \"Premier League\", \"Goals\": 27, \"Shots pg\": 11.6, \"yellow_cards\": 67, \"red_cards\": 3, \"Possession%\": 50.0, \"Pass%\": 81.2, \"AerialsWon\": 17.2, \"Rating\": 6.63}, {\"Team\": \"Marseille\", \"Tournament\": \"Ligue 1\", \"Goals\": 54, \"Shots pg\": 10.0, \"yellow_cards\": 94, \"red_cards\": 9, \"Possession%\": 52.4, \"Pass%\": 82.0, \"AerialsWon\": 14.9, \"Rating\": 6.63}, {\"Team\": \"Sampdoria\", \"Tournament\": \"Serie A\", \"Goals\": 52, \"Shots pg\": 11.3, \"yellow_cards\": 81, \"red_cards\": 3, \"Possession%\": 46.1, \"Pass%\": 78.5, \"AerialsWon\": 16.8, \"Rating\": 6.63}, {\"Team\": \"Montpellier\", \"Tournament\": \"Ligue 1\", \"Goals\": 60, \"Shots pg\": 12.2, \"yellow_cards\": 65, \"red_cards\": 7, \"Possession%\": 46.4, \"Pass%\": 78.8, \"AerialsWon\": 17.9, \"Rating\": 6.63}, {\"Team\": \"Nice\", \"Tournament\": \"Ligue 1\", \"Goals\": 50, \"Shots pg\": 10.8, \"yellow_cards\": 69, \"red_cards\": 4, \"Possession%\": 53.4, \"Pass%\": 85.6, \"AerialsWon\": 10.5, \"Rating\": 6.63}, {\"Team\": \"Hoffenheim\", \"Tournament\": \"Bundesliga\", \"Goals\": 52, \"Shots pg\": 12.6, \"yellow_cards\": 65, \"red_cards\": 4, \"Possession%\": 50.8, \"Pass%\": 80.7, \"AerialsWon\": 15.7, \"Rating\": 6.63}, {\"Team\": \"Southampton\", \"Tournament\": \"Premier League\", \"Goals\": 47, \"Shots pg\": 11.2, \"yellow_cards\": 52, \"red_cards\": 3, \"Possession%\": 51.4, \"Pass%\": 79.3, \"AerialsWon\": 14.1, \"Rating\": 6.62}, {\"Team\": \"Newcastle United\", \"Tournament\": \"Premier League\", \"Goals\": 46, \"Shots pg\": 10.4, \"yellow_cards\": 61, \"red_cards\": 3, \"Possession%\": 41.6, \"Pass%\": 76.0, \"AerialsWon\": 17.1, \"Rating\": 6.62}, {\"Team\": \"Lazio\", \"Tournament\": \"Serie A\", \"Goals\": 61, \"Shots pg\": 13.8, \"yellow_cards\": 100, \"red_cards\": 5, \"Possession%\": 52.2, \"Pass%\": 83.8, \"AerialsWon\": 14.6, \"Rating\": 6.62}, {\"Team\": \"Nantes\", \"Tournament\": \"Ligue 1\", \"Goals\": 47, \"Shots pg\": 10.8, \"yellow_cards\": 68, \"red_cards\": 4, \"Possession%\": 45.2, \"Pass%\": 77.0, \"AerialsWon\": 18.1, \"Rating\": 6.62}, {\"Team\": \"Union Berlin\", \"Tournament\": \"Bundesliga\", \"Goals\": 50, \"Shots pg\": 11.7, \"yellow_cards\": 55, \"red_cards\": 2, \"Possession%\": 45.9, \"Pass%\": 76.2, \"AerialsWon\": 17.6, \"Rating\": 6.62}, {\"Team\": \"Strasbourg\", \"Tournament\": \"Ligue 1\", \"Goals\": 49, \"Shots pg\": 11.3, \"yellow_cards\": 56, \"red_cards\": 3, \"Possession%\": 46.5, \"Pass%\": 78.3, \"AerialsWon\": 18.3, \"Rating\": 6.61}, {\"Team\": \"Crystal Palace\", \"Tournament\": \"Premier League\", \"Goals\": 41, \"Shots pg\": 9.2, \"yellow_cards\": 54, \"red_cards\": 2, \"Possession%\": 42.9, \"Pass%\": 76.1, \"AerialsWon\": 18.3, \"Rating\": 6.61}, {\"Team\": \"Freiburg\", \"Tournament\": \"Bundesliga\", \"Goals\": 52, \"Shots pg\": 11.4, \"yellow_cards\": 63, \"red_cards\": 0, \"Possession%\": 47.5, \"Pass%\": 78.1, \"AerialsWon\": 17.5, \"Rating\": 6.6}, {\"Team\": \"Valencia\", \"Tournament\": \"LaLiga\", \"Goals\": 50, \"Shots pg\": 10.3, \"yellow_cards\": 77, \"red_cards\": 5, \"Possession%\": 47.9, \"Pass%\": 79.4, \"AerialsWon\": 16.3, \"Rating\": 6.6}, {\"Team\": \"Celta Vigo\", \"Tournament\": \"LaLiga\", \"Goals\": 55, \"Shots pg\": 9.4, \"yellow_cards\": 104, \"red_cards\": 5, \"Possession%\": 52.0, \"Pass%\": 79.9, \"AerialsWon\": 16.5, \"Rating\": 6.6}, {\"Team\": \"Reims\", \"Tournament\": \"Ligue 1\", \"Goals\": 42, \"Shots pg\": 9.6, \"yellow_cards\": 75, \"red_cards\": 8, \"Possession%\": 46.3, \"Pass%\": 80.7, \"AerialsWon\": 13.4, \"Rating\": 6.6}, {\"Team\": \"Torino\", \"Tournament\": \"Serie A\", \"Goals\": 50, \"Shots pg\": 12.2, \"yellow_cards\": 72, \"red_cards\": 4, \"Possession%\": 48.0, \"Pass%\": 80.5, \"AerialsWon\": 16.1, \"Rating\": 6.59}, {\"Team\": \"Verona\", \"Tournament\": \"Serie A\", \"Goals\": 43, \"Shots pg\": 10.6, \"yellow_cards\": 91, \"red_cards\": 1, \"Possession%\": 49.6, \"Pass%\": 76.3, \"AerialsWon\": 20.6, \"Rating\": 6.59}, {\"Team\": \"Saint-Etienne\", \"Tournament\": \"Ligue 1\", \"Goals\": 42, \"Shots pg\": 11.6, \"yellow_cards\": 76, \"red_cards\": 2, \"Possession%\": 49.0, \"Pass%\": 79.3, \"AerialsWon\": 16.4, \"Rating\": 6.59}, {\"Team\": \"Bordeaux\", \"Tournament\": \"Ligue 1\", \"Goals\": 42, \"Shots pg\": 11.1, \"yellow_cards\": 74, \"red_cards\": 4, \"Possession%\": 50.2, \"Pass%\": 83.3, \"AerialsWon\": 15.4, \"Rating\": 6.59}, {\"Team\": \"Hertha Berlin\", \"Tournament\": \"Bundesliga\", \"Goals\": 41, \"Shots pg\": 11.3, \"yellow_cards\": 63, \"red_cards\": 3, \"Possession%\": 49.8, \"Pass%\": 79.5, \"AerialsWon\": 15.8, \"Rating\": 6.58}, {\"Team\": \"Cagliari\", \"Tournament\": \"Serie A\", \"Goals\": 43, \"Shots pg\": 11.4, \"yellow_cards\": 73, \"red_cards\": 3, \"Possession%\": 45.8, \"Pass%\": 79.8, \"AerialsWon\": 17.2, \"Rating\": 6.58}, {\"Team\": \"Mainz 05\", \"Tournament\": \"Bundesliga\", \"Goals\": 39, \"Shots pg\": 11.1, \"yellow_cards\": 61, \"red_cards\": 1, \"Possession%\": 42.7, \"Pass%\": 71.3, \"AerialsWon\": 18.3, \"Rating\": 6.57}, {\"Team\": \"Bologna\", \"Tournament\": \"Serie A\", \"Goals\": 51, \"Shots pg\": 13.1, \"yellow_cards\": 78, \"red_cards\": 4, \"Possession%\": 50.7, \"Pass%\": 81.5, \"AerialsWon\": 15.1, \"Rating\": 6.56}, {\"Team\": \"Augsburg\", \"Tournament\": \"Bundesliga\", \"Goals\": 36, \"Shots pg\": 9.9, \"yellow_cards\": 65, \"red_cards\": 4, \"Possession%\": 44.0, \"Pass%\": 73.6, \"AerialsWon\": 16.8, \"Rating\": 6.56}, {\"Team\": \"Udinese\", \"Tournament\": \"Serie A\", \"Goals\": 42, \"Shots pg\": 10.9, \"yellow_cards\": 63, \"red_cards\": 2, \"Possession%\": 47.2, \"Pass%\": 82.5, \"AerialsWon\": 13.1, \"Rating\": 6.55}, {\"Team\": \"SD Huesca\", \"Tournament\": \"LaLiga\", \"Goals\": 34, \"Shots pg\": 10.7, \"yellow_cards\": 68, \"red_cards\": 2, \"Possession%\": 48.7, \"Pass%\": 79.8, \"AerialsWon\": 15.7, \"Rating\": 6.55}, {\"Team\": \"Athletic Bilbao\", \"Tournament\": \"LaLiga\", \"Goals\": 46, \"Shots pg\": 10.6, \"yellow_cards\": 81, \"red_cards\": 3, \"Possession%\": 49.4, \"Pass%\": 78.5, \"AerialsWon\": 17.9, \"Rating\": 6.54}, {\"Team\": \"Osasuna\", \"Tournament\": \"LaLiga\", \"Goals\": 37, \"Shots pg\": 9.8, \"yellow_cards\": 74, \"red_cards\": 5, \"Possession%\": 44.6, \"Pass%\": 70.2, \"AerialsWon\": 26.8, \"Rating\": 6.54}, {\"Team\": \"Lorient\", \"Tournament\": \"Ligue 1\", \"Goals\": 50, \"Shots pg\": 11.2, \"yellow_cards\": 67, \"red_cards\": 3, \"Possession%\": 45.9, \"Pass%\": 78.8, \"AerialsWon\": 13.7, \"Rating\": 6.54}, {\"Team\": \"Genoa\", \"Tournament\": \"Serie A\", \"Goals\": 47, \"Shots pg\": 9.0, \"yellow_cards\": 85, \"red_cards\": 2, \"Possession%\": 46.1, \"Pass%\": 79.7, \"AerialsWon\": 13.7, \"Rating\": 6.54}, {\"Team\": \"Arminia Bielefeld\", \"Tournament\": \"Bundesliga\", \"Goals\": 26, \"Shots pg\": 9.8, \"yellow_cards\": 52, \"red_cards\": 1, \"Possession%\": 44.1, \"Pass%\": 74.6, \"AerialsWon\": 22.2, \"Rating\": 6.53}, {\"Team\": \"Angers\", \"Tournament\": \"Ligue 1\", \"Goals\": 40, \"Shots pg\": 10.7, \"yellow_cards\": 63, \"red_cards\": 2, \"Possession%\": 47.1, \"Pass%\": 81.3, \"AerialsWon\": 13.2, \"Rating\": 6.53}, {\"Team\": \"Eibar\", \"Tournament\": \"LaLiga\", \"Goals\": 29, \"Shots pg\": 11.9, \"yellow_cards\": 67, \"red_cards\": 3, \"Possession%\": 49.2, \"Pass%\": 72.6, \"AerialsWon\": 24.4, \"Rating\": 6.53}, {\"Team\": \"Werder Bremen\", \"Tournament\": \"Bundesliga\", \"Goals\": 36, \"Shots pg\": 10.6, \"yellow_cards\": 63, \"red_cards\": 3, \"Possession%\": 45.2, \"Pass%\": 76.2, \"AerialsWon\": 18.3, \"Rating\": 6.52}, {\"Team\": \"Fiorentina\", \"Tournament\": \"Serie A\", \"Goals\": 47, \"Shots pg\": 9.8, \"yellow_cards\": 86, \"red_cards\": 5, \"Possession%\": 46.8, \"Pass%\": 81.0, \"AerialsWon\": 14.2, \"Rating\": 6.52}, {\"Team\": \"Nimes\", \"Tournament\": \"Ligue 1\", \"Goals\": 40, \"Shots pg\": 10.3, \"yellow_cards\": 57, \"red_cards\": 5, \"Possession%\": 45.8, \"Pass%\": 77.5, \"AerialsWon\": 14.0, \"Rating\": 6.52}, {\"Team\": \"West Bromwich Albion\", \"Tournament\": \"Premier League\", \"Goals\": 35, \"Shots pg\": 8.9, \"yellow_cards\": 51, \"red_cards\": 4, \"Possession%\": 41.0, \"Pass%\": 72.2, \"AerialsWon\": 19.1, \"Rating\": 6.51}, {\"Team\": \"FC Koln\", \"Tournament\": \"Bundesliga\", \"Goals\": 34, \"Shots pg\": 10.6, \"yellow_cards\": 62, \"red_cards\": 1, \"Possession%\": 47.1, \"Pass%\": 77.3, \"AerialsWon\": 18.5, \"Rating\": 6.51}, {\"Team\": \"Deportivo Alaves\", \"Tournament\": \"LaLiga\", \"Goals\": 36, \"Shots pg\": 9.1, \"yellow_cards\": 87, \"red_cards\": 8, \"Possession%\": 44.6, \"Pass%\": 72.9, \"AerialsWon\": 22.6, \"Rating\": 6.5}, {\"Team\": \"Levante\", \"Tournament\": \"LaLiga\", \"Goals\": 46, \"Shots pg\": 10.1, \"yellow_cards\": 70, \"red_cards\": 1, \"Possession%\": 51.5, \"Pass%\": 80.1, \"AerialsWon\": 12.2, \"Rating\": 6.5}, {\"Team\": \"Spezia\", \"Tournament\": \"Serie A\", \"Goals\": 52, \"Shots pg\": 10.2, \"yellow_cards\": 92, \"red_cards\": 5, \"Possession%\": 51.6, \"Pass%\": 81.1, \"AerialsWon\": 14.4, \"Rating\": 6.5}, {\"Team\": \"Getafe\", \"Tournament\": \"LaLiga\", \"Goals\": 28, \"Shots pg\": 9.5, \"yellow_cards\": 117, \"red_cards\": 7, \"Possession%\": 44.4, \"Pass%\": 66.5, \"AerialsWon\": 22.8, \"Rating\": 6.49}, {\"Team\": \"Parma Calcio 1913\", \"Tournament\": \"Serie A\", \"Goals\": 39, \"Shots pg\": 10.4, \"yellow_cards\": 91, \"red_cards\": 1, \"Possession%\": 48.4, \"Pass%\": 82.5, \"AerialsWon\": 16.9, \"Rating\": 6.49}, {\"Team\": \"Elche\", \"Tournament\": \"LaLiga\", \"Goals\": 34, \"Shots pg\": 7.1, \"yellow_cards\": 95, \"red_cards\": 3, \"Possession%\": 48.1, \"Pass%\": 81.5, \"AerialsWon\": 13.2, \"Rating\": 6.48}, {\"Team\": \"Granada\", \"Tournament\": \"LaLiga\", \"Goals\": 47, \"Shots pg\": 9.4, \"yellow_cards\": 96, \"red_cards\": 6, \"Possession%\": 43.4, \"Pass%\": 70.0, \"AerialsWon\": 18.3, \"Rating\": 6.47}, {\"Team\": \"Cadiz\", \"Tournament\": \"LaLiga\", \"Goals\": 36, \"Shots pg\": 8.0, \"yellow_cards\": 77, \"red_cards\": 3, \"Possession%\": 38.5, \"Pass%\": 68.8, \"AerialsWon\": 18.5, \"Rating\": 6.47}, {\"Team\": \"Real Valladolid\", \"Tournament\": \"LaLiga\", \"Goals\": 34, \"Shots pg\": 9.7, \"yellow_cards\": 93, \"red_cards\": 4, \"Possession%\": 46.2, \"Pass%\": 74.8, \"AerialsWon\": 17.1, \"Rating\": 6.46}, {\"Team\": \"Sheffield United\", \"Tournament\": \"Premier League\", \"Goals\": 20, \"Shots pg\": 8.5, \"yellow_cards\": 73, \"red_cards\": 3, \"Possession%\": 43.0, \"Pass%\": 76.9, \"AerialsWon\": 19.1, \"Rating\": 6.46}, {\"Team\": \"Crotone\", \"Tournament\": \"Serie A\", \"Goals\": 45, \"Shots pg\": 9.5, \"yellow_cards\": 85, \"red_cards\": 4, \"Possession%\": 47.2, \"Pass%\": 80.4, \"AerialsWon\": 12.7, \"Rating\": 6.43}, {\"Team\": \"Benevento\", \"Tournament\": \"Serie A\", \"Goals\": 40, \"Shots pg\": 11.0, \"yellow_cards\": 90, \"red_cards\": 5, \"Possession%\": 44.2, \"Pass%\": 77.7, \"AerialsWon\": 13.4, \"Rating\": 6.43}, {\"Team\": \"Dijon\", \"Tournament\": \"Ligue 1\", \"Goals\": 25, \"Shots pg\": 9.2, \"yellow_cards\": 75, \"red_cards\": 5, \"Possession%\": 46.9, \"Pass%\": 80.0, \"AerialsWon\": 14.3, \"Rating\": 6.42}, {\"Team\": \"Schalke 04\", \"Tournament\": \"Bundesliga\", \"Goals\": 25, \"Shots pg\": 8.9, \"yellow_cards\": 70, \"red_cards\": 2, \"Possession%\": 46.2, \"Pass%\": 76.5, \"AerialsWon\": 15.6, \"Rating\": 6.41}]}}, {\"mode\": \"vega-lite\"});\n",
       "</script>"
      ],
      "text/plain": [
       "alt.Chart(...)"
      ]
     },
     "execution_count": 68,
     "metadata": {},
     "output_type": "execute_result"
    }
   ],
   "source": [
    "import pandas as pd\n",
    "import altair as alt\n",
    "from vega_datasets import data\n",
    "\n",
    "df = pd.read_csv(\"FootballTeams.csv\", index_col=False)\n",
    "df\n",
    "\n",
    "source = df\n",
    "alt.Chart(source).transform_window(\n",
    "    index='count()'\n",
    ").transform_fold(\n",
    "    ['Goals', 'Shots pg', 'yellow_cards', 'red_cards', 'Possession%',\n",
    "       'Pass%', 'AerialsWon', 'Rating']\n",
    ").mark_line().encode(\n",
    "    x='key:N',\n",
    "    y='value:Q',\n",
    "    color='Tournament:N',\n",
    "    detail='index:N',\n",
    "    tooltip=\"Team:N\",\n",
    "    opacity=alt.value(0.5)\n",
    ").properties(width=500).interactive()\n"
   ]
  },
  {
   "cell_type": "code",
   "execution_count": 57,
   "id": "33a43659",
   "metadata": {},
   "outputs": [
    {
     "data": {
      "text/plain": [
       "Index(['Goals', 'Shots pg', 'yellow_cards', 'red_cards', 'Possession%',\n",
       "       'Pass%', 'AerialsWon', 'Rating'],\n",
       "      dtype='object')"
      ]
     },
     "execution_count": 57,
     "metadata": {},
     "output_type": "execute_result"
    }
   ],
   "source": [
    "df.columns[2:]\n"
   ]
  },
  {
   "cell_type": "code",
   "execution_count": null,
   "id": "3af91433",
   "metadata": {},
   "outputs": [],
   "source": []
  },
  {
   "cell_type": "code",
   "execution_count": null,
   "id": "91ad87c2",
   "metadata": {},
   "outputs": [],
   "source": []
  }
 ],
 "metadata": {
  "kernelspec": {
   "display_name": "Python 3",
   "language": "python",
   "name": "python3"
  },
  "language_info": {
   "codemirror_mode": {
    "name": "ipython",
    "version": 3
   },
   "file_extension": ".py",
   "mimetype": "text/x-python",
   "name": "python",
   "nbconvert_exporter": "python",
   "pygments_lexer": "ipython3",
   "version": "3.8.3"
  }
 },
 "nbformat": 4,
 "nbformat_minor": 5
}
